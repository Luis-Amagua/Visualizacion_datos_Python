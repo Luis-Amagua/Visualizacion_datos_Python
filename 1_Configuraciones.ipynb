{
  "nbformat": 4,
  "nbformat_minor": 0,
  "metadata": {
    "colab": {
      "provenance": [],
      "authorship_tag": "ABX9TyN9t+7+ypXdPMyYCpEv+7lJ",
      "include_colab_link": true
    },
    "kernelspec": {
      "name": "python3",
      "display_name": "Python 3"
    },
    "language_info": {
      "name": "python"
    }
  },
  "cells": [
    {
      "cell_type": "markdown",
      "metadata": {
        "id": "view-in-github",
        "colab_type": "text"
      },
      "source": [
        "<a href=\"https://colab.research.google.com/github/Luis-Amagua/Visualizacion_datos_Python/blob/main/1_Configuraciones.ipynb\" target=\"_parent\"><img src=\"https://colab.research.google.com/assets/colab-badge.svg\" alt=\"Open In Colab\"/></a>"
      ]
    },
    {
      "cell_type": "markdown",
      "source": [
        "# Visualización de datos con Python"
      ],
      "metadata": {
        "id": "3VHJnaeVQalt"
      }
    },
    {
      "cell_type": "code",
      "execution_count": 10,
      "metadata": {
        "colab": {
          "base_uri": "https://localhost:8080/"
        },
        "id": "gE-AFPRrQWEH",
        "outputId": "249b1275-3acc-4127-eb1b-8e3be4682b9e"
      },
      "outputs": [
        {
          "output_type": "stream",
          "name": "stdout",
          "text": [
            "Drive already mounted at /content/drive; to attempt to forcibly remount, call drive.mount(\"/content/drive\", force_remount=True).\n"
          ]
        }
      ],
      "source": [
        "# Para conectar Google Drive se usa la sentencia: (debes tener cuenta en google)\n",
        "from google.colab import drive\n",
        "drive.mount('/content/drive')"
      ]
    },
    {
      "cell_type": "code",
      "source": [
        "# para verificar en qué carpeta está trabajando\n",
        "import os\n",
        "os.getcwd()\n"
      ],
      "metadata": {
        "id": "ivLsTK6CQnLw",
        "colab": {
          "base_uri": "https://localhost:8080/",
          "height": 35
        },
        "outputId": "4fdbcdc9-8f39-4dc3-ac93-897adfa351c2"
      },
      "execution_count": 11,
      "outputs": [
        {
          "output_type": "execute_result",
          "data": {
            "text/plain": [
              "'/content/drive/My Drive/CIENCIA DE DATOS/Datapath/Visualizacion de datos'"
            ],
            "application/vnd.google.colaboratory.intrinsic+json": {
              "type": "string"
            }
          },
          "metadata": {},
          "execution_count": 11
        }
      ]
    },
    {
      "cell_type": "code",
      "source": [
        "# cambiar el directorio de trabajo de Google Drive\n",
        "# os.chdir('.drive/MyDrive/CIENCIA DE DATOS/Datapath/Visualizacion de datos')"
      ],
      "metadata": {
        "id": "ujWSR__lRvQR"
      },
      "execution_count": 18,
      "outputs": []
    },
    {
      "cell_type": "code",
      "source": [
        "# que archivos tiene la carpeta\n",
        "os.listdir() "
      ],
      "metadata": {
        "id": "t8-4gjQ2SoYA",
        "colab": {
          "base_uri": "https://localhost:8080/"
        },
        "outputId": "cf8154ab-050c-493a-dccd-5751df1487af"
      },
      "execution_count": 19,
      "outputs": [
        {
          "output_type": "execute_result",
          "data": {
            "text/plain": [
              "['requirements-colab.txt', 'data']"
            ]
          },
          "metadata": {},
          "execution_count": 19
        }
      ]
    },
    {
      "cell_type": "code",
      "source": [
        "# en \"requirements-cola.txt\" se tienen las librerias a utilizar\n",
        "# para instalar todas las librerias necesarias :\n",
        "!pip install -r requirements-colab.txt"
      ],
      "metadata": {
        "colab": {
          "base_uri": "https://localhost:8080/"
        },
        "id": "b5_tyZEzVoaY",
        "outputId": "5abcfe61-2b8e-4cd0-f4a5-9c5c03076dfe"
      },
      "execution_count": 20,
      "outputs": [
        {
          "output_type": "stream",
          "name": "stdout",
          "text": [
            "Looking in indexes: https://pypi.org/simple, https://us-python.pkg.dev/colab-wheels/public/simple/\n",
            "Requirement already satisfied: pandas in /usr/local/lib/python3.8/dist-packages (from -r requirements-colab.txt (line 1)) (1.3.5)\n",
            "Requirement already satisfied: numpy in /usr/local/lib/python3.8/dist-packages (from -r requirements-colab.txt (line 2)) (1.21.6)\n",
            "Requirement already satisfied: matplotlib in /usr/local/lib/python3.8/dist-packages (from -r requirements-colab.txt (line 3)) (3.2.2)\n",
            "Requirement already satisfied: seaborn in /usr/local/lib/python3.8/dist-packages (from -r requirements-colab.txt (line 4)) (0.11.2)\n",
            "Requirement already satisfied: folium in /usr/local/lib/python3.8/dist-packages (from -r requirements-colab.txt (line 5)) (0.12.1.post1)\n",
            "Requirement already satisfied: geopy in /usr/local/lib/python3.8/dist-packages (from -r requirements-colab.txt (line 6)) (1.17.0)\n",
            "Requirement already satisfied: python-dateutil>=2.7.3 in /usr/local/lib/python3.8/dist-packages (from pandas->-r requirements-colab.txt (line 1)) (2.8.2)\n",
            "Requirement already satisfied: pytz>=2017.3 in /usr/local/lib/python3.8/dist-packages (from pandas->-r requirements-colab.txt (line 1)) (2022.7.1)\n",
            "Requirement already satisfied: kiwisolver>=1.0.1 in /usr/local/lib/python3.8/dist-packages (from matplotlib->-r requirements-colab.txt (line 3)) (1.4.4)\n",
            "Requirement already satisfied: cycler>=0.10 in /usr/local/lib/python3.8/dist-packages (from matplotlib->-r requirements-colab.txt (line 3)) (0.11.0)\n",
            "Requirement already satisfied: pyparsing!=2.0.4,!=2.1.2,!=2.1.6,>=2.0.1 in /usr/local/lib/python3.8/dist-packages (from matplotlib->-r requirements-colab.txt (line 3)) (3.0.9)\n",
            "Requirement already satisfied: scipy>=1.0 in /usr/local/lib/python3.8/dist-packages (from seaborn->-r requirements-colab.txt (line 4)) (1.7.3)\n",
            "Requirement already satisfied: requests in /usr/local/lib/python3.8/dist-packages (from folium->-r requirements-colab.txt (line 5)) (2.25.1)\n",
            "Requirement already satisfied: branca>=0.3.0 in /usr/local/lib/python3.8/dist-packages (from folium->-r requirements-colab.txt (line 5)) (0.6.0)\n",
            "Requirement already satisfied: jinja2>=2.9 in /usr/local/lib/python3.8/dist-packages (from folium->-r requirements-colab.txt (line 5)) (2.11.3)\n",
            "Requirement already satisfied: geographiclib<2,>=1.49 in /usr/local/lib/python3.8/dist-packages (from geopy->-r requirements-colab.txt (line 6)) (1.52)\n",
            "Requirement already satisfied: MarkupSafe>=0.23 in /usr/local/lib/python3.8/dist-packages (from jinja2>=2.9->folium->-r requirements-colab.txt (line 5)) (2.0.1)\n",
            "Requirement already satisfied: six>=1.5 in /usr/local/lib/python3.8/dist-packages (from python-dateutil>=2.7.3->pandas->-r requirements-colab.txt (line 1)) (1.15.0)\n",
            "Requirement already satisfied: certifi>=2017.4.17 in /usr/local/lib/python3.8/dist-packages (from requests->folium->-r requirements-colab.txt (line 5)) (2022.12.7)\n",
            "Requirement already satisfied: idna<3,>=2.5 in /usr/local/lib/python3.8/dist-packages (from requests->folium->-r requirements-colab.txt (line 5)) (2.10)\n",
            "Requirement already satisfied: urllib3<1.27,>=1.21.1 in /usr/local/lib/python3.8/dist-packages (from requests->folium->-r requirements-colab.txt (line 5)) (1.24.3)\n",
            "Requirement already satisfied: chardet<5,>=3.0.2 in /usr/local/lib/python3.8/dist-packages (from requests->folium->-r requirements-colab.txt (line 5)) (4.0.0)\n"
          ]
        }
      ]
    },
    {
      "cell_type": "code",
      "source": [],
      "metadata": {
        "id": "zdXlT2qSYoaw"
      },
      "execution_count": null,
      "outputs": []
    }
  ]
}